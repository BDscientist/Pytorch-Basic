{
 "cells": [
  {
   "cell_type": "markdown",
   "metadata": {},
   "source": [
    "# 19. RNN with Hamlet"
   ]
  },
  {
   "cell_type": "code",
   "execution_count": 1,
   "metadata": {},
   "outputs": [],
   "source": [
    "import torch\n",
    "import torch.nn as nn\n",
    "\n",
    "import nltk\n",
    "\n",
    "import random\n",
    "import numpy as np"
   ]
  },
  {
   "cell_type": "markdown",
   "metadata": {},
   "source": [
    "## 19.1 Prepare Data"
   ]
  },
  {
   "cell_type": "code",
   "execution_count": 2,
   "metadata": {},
   "outputs": [
    {
     "name": "stdout",
     "output_type": "stream",
     "text": [
      "[nltk_data] Downloading package gutenberg to\n",
      "[nltk_data]     C:\\Users\\slcf\\AppData\\Roaming\\nltk_data...\n",
      "[nltk_data]   Package gutenberg is already up-to-date!\n"
     ]
    },
    {
     "data": {
      "text/plain": [
       "True"
      ]
     },
     "execution_count": 2,
     "metadata": {},
     "output_type": "execute_result"
    }
   ],
   "source": [
    "nltk.download(\"gutenberg\")"
   ]
  },
  {
   "cell_type": "code",
   "execution_count": 3,
   "metadata": {},
   "outputs": [
    {
     "name": "stdout",
     "output_type": "stream",
     "text": [
      "[The Tragedie of Hamlet by William Shakespeare 1599]\n",
      "\n",
      "\n",
      "Actus Primus. Scoena Prima.\n",
      "\n",
      "Enter Barnardo and Francisco two Centinels.\n",
      "\n",
      "  Barnardo. Who's there?\n",
      "  Fran. Nay answer me: Stand & vnfold\n",
      "your selfe\n",
      "\n",
      "   Bar. Long liue the King\n",
      "\n",
      "   Fran. Barnardo?\n",
      "  Bar. He\n",
      "\n",
      "   Fran. You come most carefully vpon your houre\n",
      "\n",
      "   Bar. 'Tis now strook twelue, get thee to bed Francisco\n",
      "\n",
      "   Fran. For this releefe much thankes: 'Tis bitter cold,\n",
      "And I am sicke at heart\n",
      "\n",
      "   Barn. Haue you had quiet Guard?\n",
      "  Fran. Not\n"
     ]
    }
   ],
   "source": [
    "raw = nltk.corpus.gutenberg.raw(\"shakespeare-hamlet.txt\")\n",
    "print(raw[:500])"
   ]
  },
  {
   "cell_type": "markdown",
   "metadata": {},
   "source": [
    "## 19.2 Char to Dic"
   ]
  },
  {
   "cell_type": "code",
   "execution_count": 4,
   "metadata": {},
   "outputs": [],
   "source": [
    "char2index = {}\n",
    "index2char = []"
   ]
  },
  {
   "cell_type": "code",
   "execution_count": 5,
   "metadata": {},
   "outputs": [],
   "source": [
    "for char in raw :\n",
    "    if char not in char2index.keys() :\n",
    "        char2index[char] = len(char2index)\n",
    "        index2char.append(char)"
   ]
  },
  {
   "cell_type": "code",
   "execution_count": 6,
   "metadata": {},
   "outputs": [
    {
     "data": {
      "text/plain": [
       "{'\\n': 27,\n",
       " ' ': 4,\n",
       " '!': 64,\n",
       " '&': 43,\n",
       " \"'\": 39,\n",
       " '(': 61,\n",
       " ')': 62,\n",
       " ',': 48,\n",
       " '-': 54,\n",
       " '.': 32,\n",
       " '1': 23,\n",
       " '5': 24,\n",
       " '9': 25,\n",
       " ':': 42,\n",
       " ';': 58,\n",
       " '?': 40,\n",
       " 'A': 28,\n",
       " 'B': 35,\n",
       " 'C': 38,\n",
       " 'D': 55,\n",
       " 'E': 34,\n",
       " 'F': 36,\n",
       " 'G': 51,\n",
       " 'H': 12,\n",
       " 'I': 49,\n",
       " 'K': 46,\n",
       " 'L': 45,\n",
       " 'M': 52,\n",
       " 'N': 41,\n",
       " 'O': 56,\n",
       " 'P': 31,\n",
       " 'Q': 59,\n",
       " 'R': 53,\n",
       " 'S': 19,\n",
       " 'T': 1,\n",
       " 'V': 63,\n",
       " 'W': 18,\n",
       " 'Y': 47,\n",
       " 'Z': 66,\n",
       " '[': 0,\n",
       " ']': 26,\n",
       " 'a': 6,\n",
       " 'b': 16,\n",
       " 'c': 29,\n",
       " 'd': 8,\n",
       " 'e': 3,\n",
       " 'f': 11,\n",
       " 'g': 7,\n",
       " 'h': 2,\n",
       " 'i': 9,\n",
       " 'j': 65,\n",
       " 'k': 20,\n",
       " 'l': 14,\n",
       " 'm': 13,\n",
       " 'n': 33,\n",
       " 'o': 10,\n",
       " 'p': 22,\n",
       " 'q': 50,\n",
       " 'r': 5,\n",
       " 's': 21,\n",
       " 't': 15,\n",
       " 'u': 30,\n",
       " 'v': 44,\n",
       " 'w': 37,\n",
       " 'x': 57,\n",
       " 'y': 17,\n",
       " 'z': 60}"
      ]
     },
     "execution_count": 6,
     "metadata": {},
     "output_type": "execute_result"
    }
   ],
   "source": [
    "char2index"
   ]
  },
  {
   "cell_type": "code",
   "execution_count": 7,
   "metadata": {
    "scrolled": true
   },
   "outputs": [
    {
     "name": "stdout",
     "output_type": "stream",
     "text": [
      "Dimension of input & output : 67\n"
     ]
    }
   ],
   "source": [
    "dim = len(char2index)\n",
    "print(\"Dimension of input & output :\", dim)"
   ]
  },
  {
   "cell_type": "code",
   "execution_count": 8,
   "metadata": {},
   "outputs": [],
   "source": [
    "char2vec = {}\n",
    "eye = np.eye(len(char2index))"
   ]
  },
  {
   "cell_type": "code",
   "execution_count": 9,
   "metadata": {},
   "outputs": [],
   "source": [
    "for item in char2index.keys() :\n",
    "    char2vec[item] = eye[char2index[item],:]"
   ]
  },
  {
   "cell_type": "code",
   "execution_count": 10,
   "metadata": {},
   "outputs": [
    {
     "data": {
      "text/plain": [
       "array([0., 0., 0., 0., 0., 0., 1., 0., 0., 0., 0., 0., 0., 0., 0., 0., 0.,\n",
       "       0., 0., 0., 0., 0., 0., 0., 0., 0., 0., 0., 0., 0., 0., 0., 0., 0.,\n",
       "       0., 0., 0., 0., 0., 0., 0., 0., 0., 0., 0., 0., 0., 0., 0., 0., 0.,\n",
       "       0., 0., 0., 0., 0., 0., 0., 0., 0., 0., 0., 0., 0., 0., 0., 0.])"
      ]
     },
     "execution_count": 10,
     "metadata": {},
     "output_type": "execute_result"
    }
   ],
   "source": [
    "char2vec['a']"
   ]
  },
  {
   "cell_type": "code",
   "execution_count": 11,
   "metadata": {},
   "outputs": [],
   "source": [
    "data = np.array([char2vec[char] for char in raw])"
   ]
  },
  {
   "cell_type": "markdown",
   "metadata": {},
   "source": [
    "## 19.3 Define Model"
   ]
  },
  {
   "cell_type": "code",
   "execution_count": 12,
   "metadata": {},
   "outputs": [],
   "source": [
    "# https://pytorch.org/docs/stable/nn.html#torch.nn.RNN"
   ]
  },
  {
   "cell_type": "code",
   "execution_count": 13,
   "metadata": {},
   "outputs": [],
   "source": [
    "# Parameters:\t\n",
    "# input_size – The number of expected features in the input x\n",
    "# hidden_size – The number of features in the hidden state h\n",
    "# num_layers – Number of recurrent layers. E.g., setting num_layers=2 would mean stacking two RNNs together to form a stacked RNN, with the second RNN taking in outputs of the first RNN and computing the final results. Default: 1\n",
    "# nonlinearity – The non-linearity to use. Can be either ‘tanh’ or ‘relu’. Default: ‘tanh’\n",
    "# bias – If False, then the layer does not use bias weights b_ih and b_hh. Default: True\n",
    "# batch_first – If True, then the input and output tensors are provided as (batch, seq, feature). Default: False\n",
    "# dropout – If non-zero, introduces a Dropout layer on the outputs of each RNN layer except the last layer, with dropout probability equal to dropout. Default: 0\n",
    "# bidirectional – If True, becomes a bidirectional RNN. Default: False"
   ]
  },
  {
   "cell_type": "code",
   "execution_count": 14,
   "metadata": {},
   "outputs": [],
   "source": [
    "class RNN(nn.Module):\n",
    "    def __init__(self, input_size, hidden_size, output_size, num_layers):\n",
    "        super(RNN, self).__init__()\n",
    "        self.input_size = input_size\n",
    "        self.hidden_size = hidden_size\n",
    "        self.output_size = output_size\n",
    "        self.num_layers = num_layers\n",
    "        \n",
    "        self.rnn = nn.RNN(input_size, hidden_size, num_layers)\n",
    "        self.fc = nn.Linear(hidden_size, output_size)\n",
    "        \n",
    "    def forward(self, input, hidden):\n",
    "        out, hidden = self.rnn(input, hidden)\n",
    "        fc_out = self.fc(out)\n",
    "        return fc_out, hidden\n",
    "\n",
    "    def init_hidden(self):\n",
    "        hidden = torch.zeros(self.num_layers, 1, self.hidden_size).cuda()\n",
    "        return hidden"
   ]
  },
  {
   "cell_type": "code",
   "execution_count": 15,
   "metadata": {},
   "outputs": [],
   "source": [
    "model = RNN(dim, 500, dim, 1).cuda()"
   ]
  },
  {
   "cell_type": "markdown",
   "metadata": {},
   "source": [
    "## 19.4 Train Model"
   ]
  },
  {
   "cell_type": "code",
   "execution_count": 16,
   "metadata": {},
   "outputs": [],
   "source": [
    "optimizer = torch.optim.Adam(model.parameters(), lr=0.001)\n",
    "loss = nn.CrossEntropyLoss()"
   ]
  },
  {
   "cell_type": "code",
   "execution_count": 17,
   "metadata": {},
   "outputs": [],
   "source": [
    "seq_len = 100\n",
    "num_epochs = 5"
   ]
  },
  {
   "cell_type": "code",
   "execution_count": 18,
   "metadata": {
    "scrolled": false
   },
   "outputs": [
    {
     "name": "stdout",
     "output_type": "stream",
     "text": [
      "Epoch [1/5], Iter [100/1627] Loss: 329.5282\n",
      "Epoch [1/5], Iter [200/1627] Loss: 313.7830\n",
      "Epoch [1/5], Iter [300/1627] Loss: 263.7442\n",
      "Epoch [1/5], Iter [400/1627] Loss: 259.2927\n",
      "Epoch [1/5], Iter [500/1627] Loss: 258.7591\n",
      "Epoch [1/5], Iter [600/1627] Loss: 210.3250\n",
      "Epoch [1/5], Iter [700/1627] Loss: 232.6843\n",
      "Epoch [1/5], Iter [800/1627] Loss: 262.0320\n",
      "Epoch [1/5], Iter [900/1627] Loss: 225.5680\n",
      "Epoch [1/5], Iter [1000/1627] Loss: 234.9646\n",
      "Epoch [1/5], Iter [1100/1627] Loss: 251.1961\n",
      "Epoch [1/5], Iter [1200/1627] Loss: 252.1086\n",
      "Epoch [1/5], Iter [1300/1627] Loss: 206.3881\n",
      "Epoch [1/5], Iter [1400/1627] Loss: 170.9088\n",
      "Epoch [1/5], Iter [1500/1627] Loss: 248.8352\n",
      "Epoch [1/5], Iter [1600/1627] Loss: 237.9035\n",
      "Epoch [2/5], Iter [100/1627] Loss: 211.3038\n",
      "Epoch [2/5], Iter [200/1627] Loss: 230.0274\n",
      "Epoch [2/5], Iter [300/1627] Loss: 210.6045\n",
      "Epoch [2/5], Iter [400/1627] Loss: 245.9961\n",
      "Epoch [2/5], Iter [500/1627] Loss: 208.2122\n",
      "Epoch [2/5], Iter [600/1627] Loss: 193.6741\n",
      "Epoch [2/5], Iter [700/1627] Loss: 231.3711\n",
      "Epoch [2/5], Iter [800/1627] Loss: 200.0281\n",
      "Epoch [2/5], Iter [900/1627] Loss: 215.0363\n",
      "Epoch [2/5], Iter [1000/1627] Loss: 155.0664\n",
      "Epoch [2/5], Iter [1100/1627] Loss: 223.0788\n",
      "Epoch [2/5], Iter [1200/1627] Loss: 182.8931\n",
      "Epoch [2/5], Iter [1300/1627] Loss: 230.3813\n",
      "Epoch [2/5], Iter [1400/1627] Loss: 195.8614\n",
      "Epoch [2/5], Iter [1500/1627] Loss: 210.4595\n",
      "Epoch [2/5], Iter [1600/1627] Loss: 185.5269\n",
      "Epoch [3/5], Iter [100/1627] Loss: 171.0794\n",
      "Epoch [3/5], Iter [200/1627] Loss: 183.0760\n",
      "Epoch [3/5], Iter [300/1627] Loss: 199.0294\n",
      "Epoch [3/5], Iter [400/1627] Loss: 209.3272\n",
      "Epoch [3/5], Iter [500/1627] Loss: 187.3044\n",
      "Epoch [3/5], Iter [600/1627] Loss: 146.7480\n",
      "Epoch [3/5], Iter [700/1627] Loss: 228.1041\n",
      "Epoch [3/5], Iter [800/1627] Loss: 181.4357\n",
      "Epoch [3/5], Iter [900/1627] Loss: 227.7474\n",
      "Epoch [3/5], Iter [1000/1627] Loss: 193.6460\n",
      "Epoch [3/5], Iter [1100/1627] Loss: 208.7893\n",
      "Epoch [3/5], Iter [1200/1627] Loss: 219.5769\n",
      "Epoch [3/5], Iter [1300/1627] Loss: 201.0013\n",
      "Epoch [3/5], Iter [1400/1627] Loss: 210.0313\n",
      "Epoch [3/5], Iter [1500/1627] Loss: 175.1993\n",
      "Epoch [3/5], Iter [1600/1627] Loss: 188.4229\n",
      "Epoch [4/5], Iter [100/1627] Loss: 174.4586\n",
      "Epoch [4/5], Iter [200/1627] Loss: 152.1515\n",
      "Epoch [4/5], Iter [300/1627] Loss: 188.0887\n",
      "Epoch [4/5], Iter [400/1627] Loss: 204.1526\n",
      "Epoch [4/5], Iter [500/1627] Loss: 196.5816\n",
      "Epoch [4/5], Iter [600/1627] Loss: 165.5082\n",
      "Epoch [4/5], Iter [700/1627] Loss: 209.9830\n",
      "Epoch [4/5], Iter [800/1627] Loss: 158.6324\n",
      "Epoch [4/5], Iter [900/1627] Loss: 187.6304\n",
      "Epoch [4/5], Iter [1000/1627] Loss: 171.8616\n",
      "Epoch [4/5], Iter [1100/1627] Loss: 213.5898\n",
      "Epoch [4/5], Iter [1200/1627] Loss: 187.1369\n",
      "Epoch [4/5], Iter [1300/1627] Loss: 194.8887\n",
      "Epoch [4/5], Iter [1400/1627] Loss: 206.5595\n",
      "Epoch [4/5], Iter [1500/1627] Loss: 170.8671\n",
      "Epoch [4/5], Iter [1600/1627] Loss: 236.7789\n",
      "Epoch [5/5], Iter [100/1627] Loss: 196.2372\n",
      "Epoch [5/5], Iter [200/1627] Loss: 151.1704\n",
      "Epoch [5/5], Iter [300/1627] Loss: 187.3816\n",
      "Epoch [5/5], Iter [400/1627] Loss: 179.0075\n",
      "Epoch [5/5], Iter [500/1627] Loss: 235.5383\n",
      "Epoch [5/5], Iter [600/1627] Loss: 196.9308\n",
      "Epoch [5/5], Iter [700/1627] Loss: 171.7220\n",
      "Epoch [5/5], Iter [800/1627] Loss: 170.3674\n",
      "Epoch [5/5], Iter [900/1627] Loss: 144.6640\n",
      "Epoch [5/5], Iter [1000/1627] Loss: 180.7217\n",
      "Epoch [5/5], Iter [1100/1627] Loss: 177.6709\n",
      "Epoch [5/5], Iter [1200/1627] Loss: 198.7109\n",
      "Epoch [5/5], Iter [1300/1627] Loss: 198.3356\n",
      "Epoch [5/5], Iter [1400/1627] Loss: 195.4942\n",
      "Epoch [5/5], Iter [1500/1627] Loss: 199.1115\n",
      "Epoch [5/5], Iter [1600/1627] Loss: 159.4661\n"
     ]
    }
   ],
   "source": [
    "for epoch in range(num_epochs):\n",
    "    \n",
    "    sp = list(range(0, len(data) - 2 * seq_len, seq_len))\n",
    "    sp = np.add(sp, random.randint(0, seq_len))\n",
    "    random.shuffle(sp)\n",
    "    \n",
    "    for i in range(len(sp)) :\n",
    "    \n",
    "        hidden = model.init_hidden()\n",
    "\n",
    "        cost = 0\n",
    "            \n",
    "        for pos in range(sp[i], sp[i] + seq_len):\n",
    "            \n",
    "            X = torch.from_numpy(data[pos]).type(torch.FloatTensor).cuda().reshape(1, 1, dim)\n",
    "            y = torch.from_numpy(data[pos+1]).cuda()\n",
    "            \n",
    "            _, y = y.max(dim=0)\n",
    "            \n",
    "            pre, hidden = model(X,hidden)\n",
    "            cost += loss(pre.reshape(1, dim), y.reshape(1).cuda())\n",
    "\n",
    "        optimizer.zero_grad()\n",
    "        cost.backward()\n",
    "        \n",
    "        nn.utils.clip_grad_norm_(model.parameters(), 5)\n",
    "        \n",
    "        optimizer.step()\n",
    "\n",
    "        if (i + 1) % 100 == 0 :\n",
    "            print('Epoch [%d/%d], Iter [%d/%d] Loss: %.4f'\n",
    "                     %(epoch+1, num_epochs, i + 1, len(sp), cost.item()))"
   ]
  },
  {
   "cell_type": "markdown",
   "metadata": {},
   "source": [
    "## 19.5 Test Model"
   ]
  },
  {
   "cell_type": "code",
   "execution_count": 19,
   "metadata": {
    "scrolled": false
   },
   "outputs": [
    {
     "name": "stdout",
     "output_type": "stream",
     "text": [
      "* Generated Text : \n",
      "\n",
      " rhis and than the King of your the Sondersone then\n",
      "I sour to the framation\n",
      "\n",
      "   Obh. It the be a pertoue,\n",
      "With shour for a doofe then\n",
      "\n",
      "  Han. I all with'r hest nene the King. Growes\n",
      "\n",
      "   Rang. To the fron trent ther frome, the verit whinge and to the King of Horound.\n",
      "\n",
      "Exhur to to to the Connten,\n",
      "We dow to to's mode in the the to hant\n",
      "\n",
      "   Ham. An shat soue for tre fortirn will thon ter this and fron trentent the thoue a frele of a seruld my Lord to bus in the Sonning to might\n",
      "\n",
      "   Hor. Sin to't and a\n"
     ]
    }
   ],
   "source": [
    "start_num = 5\n",
    "text = index2char[start_num]\n",
    "\n",
    "model.eval()\n",
    "hidden = model.init_hidden()\n",
    "\n",
    "X_test = torch.from_numpy(data[start_num]).type(torch.FloatTensor).cuda().reshape(1, 1, dim)\n",
    "    \n",
    "for i in range(500) :\n",
    "\n",
    "    pre, hidden = model(X_test, hidden)\n",
    "\n",
    "    temp = pre.reshape(-1).cpu().data.numpy()\n",
    "\n",
    "    best_5 = np.argsort(temp)[::-1][:5]\n",
    "    \n",
    "    temp = np.exp(temp[best_5])\n",
    "    \n",
    "    temp = temp / temp.sum()\n",
    "    \n",
    "    pre = np.random.choice(best_5, 1, p = temp)[0]\n",
    "    \n",
    "    curr_char = index2char[pre]\n",
    "    \n",
    "    text += curr_char\n",
    "    \n",
    "    X_test = torch.from_numpy(char2vec[curr_char]).type(torch.FloatTensor).cuda().reshape(1, 1, dim)\n",
    "    \n",
    "print(\"* Generated Text : \\n\\n\", text)"
   ]
  }
 ],
 "metadata": {
  "kernelspec": {
   "display_name": "Python 3",
   "language": "python",
   "name": "python3"
  },
  "language_info": {
   "codemirror_mode": {
    "name": "ipython",
    "version": 3
   },
   "file_extension": ".py",
   "mimetype": "text/x-python",
   "name": "python",
   "nbconvert_exporter": "python",
   "pygments_lexer": "ipython3",
   "version": "3.6.4"
  },
  "varInspector": {
   "cols": {
    "lenName": 16,
    "lenType": 16,
    "lenVar": 40
   },
   "kernels_config": {
    "python": {
     "delete_cmd_postfix": "",
     "delete_cmd_prefix": "del ",
     "library": "var_list.py",
     "varRefreshCmd": "print(var_dic_list())"
    },
    "r": {
     "delete_cmd_postfix": ") ",
     "delete_cmd_prefix": "rm(",
     "library": "var_list.r",
     "varRefreshCmd": "cat(var_dic_list()) "
    }
   },
   "types_to_exclude": [
    "module",
    "function",
    "builtin_function_or_method",
    "instance",
    "_Feature"
   ],
   "window_display": false
  }
 },
 "nbformat": 4,
 "nbformat_minor": 2
}
