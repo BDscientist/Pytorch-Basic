{
 "cells": [
  {
   "cell_type": "markdown",
   "metadata": {},
   "source": [
    "# 21. RNN with Bitcoin Price"
   ]
  },
  {
   "cell_type": "code",
   "execution_count": 1,
   "metadata": {},
   "outputs": [],
   "source": [
    "import torch\n",
    "import torch.nn as nn\n",
    "from torch.autograd import Variable\n",
    "\n",
    "import random\n",
    "import numpy as np\n",
    "import pandas as pd\n",
    "\n",
    "import sklearn.metrics as metrics"
   ]
  },
  {
   "cell_type": "code",
   "execution_count": 2,
   "metadata": {},
   "outputs": [],
   "source": [
    "import matplotlib.pyplot as plt\n",
    "%matplotlib inline"
   ]
  },
  {
   "cell_type": "markdown",
   "metadata": {},
   "source": [
    "## 21.1 Prepare Data"
   ]
  },
  {
   "cell_type": "code",
   "execution_count": 3,
   "metadata": {},
   "outputs": [
    {
     "data": {
      "text/html": [
       "<div>\n",
       "<style scoped>\n",
       "    .dataframe tbody tr th:only-of-type {\n",
       "        vertical-align: middle;\n",
       "    }\n",
       "\n",
       "    .dataframe tbody tr th {\n",
       "        vertical-align: top;\n",
       "    }\n",
       "\n",
       "    .dataframe thead th {\n",
       "        text-align: right;\n",
       "    }\n",
       "</style>\n",
       "<table border=\"1\" class=\"dataframe\">\n",
       "  <thead>\n",
       "    <tr style=\"text-align: right;\">\n",
       "      <th></th>\n",
       "      <th>date</th>\n",
       "      <th>price</th>\n",
       "    </tr>\n",
       "  </thead>\n",
       "  <tbody>\n",
       "    <tr>\n",
       "      <th>0</th>\n",
       "      <td>2013-01-02 0:00</td>\n",
       "      <td>13.40000</td>\n",
       "    </tr>\n",
       "    <tr>\n",
       "      <th>1</th>\n",
       "      <td>2013-01-04 0:00</td>\n",
       "      <td>13.48986</td>\n",
       "    </tr>\n",
       "    <tr>\n",
       "      <th>2</th>\n",
       "      <td>2013-01-06 0:00</td>\n",
       "      <td>13.52999</td>\n",
       "    </tr>\n",
       "    <tr>\n",
       "      <th>3</th>\n",
       "      <td>2013-01-08 0:00</td>\n",
       "      <td>13.83000</td>\n",
       "    </tr>\n",
       "    <tr>\n",
       "      <th>4</th>\n",
       "      <td>2013-01-10 0:00</td>\n",
       "      <td>14.32000</td>\n",
       "    </tr>\n",
       "  </tbody>\n",
       "</table>\n",
       "</div>"
      ],
      "text/plain": [
       "              date     price\n",
       "0  2013-01-02 0:00  13.40000\n",
       "1  2013-01-04 0:00  13.48986\n",
       "2  2013-01-06 0:00  13.52999\n",
       "3  2013-01-08 0:00  13.83000\n",
       "4  2013-01-10 0:00  14.32000"
      ]
     },
     "execution_count": 3,
     "metadata": {},
     "output_type": "execute_result"
    }
   ],
   "source": [
    "raw_data = pd.read_csv('data/bitcoin_data.csv')\n",
    "raw_data.head()"
   ]
  },
  {
   "cell_type": "code",
   "execution_count": 4,
   "metadata": {},
   "outputs": [
    {
     "data": {
      "text/plain": [
       "906"
      ]
     },
     "execution_count": 4,
     "metadata": {},
     "output_type": "execute_result"
    }
   ],
   "source": [
    "len(raw_data)"
   ]
  },
  {
   "cell_type": "code",
   "execution_count": 5,
   "metadata": {},
   "outputs": [
    {
     "data": {
      "text/html": [
       "<div>\n",
       "<style scoped>\n",
       "    .dataframe tbody tr th:only-of-type {\n",
       "        vertical-align: middle;\n",
       "    }\n",
       "\n",
       "    .dataframe tbody tr th {\n",
       "        vertical-align: top;\n",
       "    }\n",
       "\n",
       "    .dataframe thead th {\n",
       "        text-align: right;\n",
       "    }\n",
       "</style>\n",
       "<table border=\"1\" class=\"dataframe\">\n",
       "  <thead>\n",
       "    <tr style=\"text-align: right;\">\n",
       "      <th></th>\n",
       "      <th>date</th>\n",
       "      <th>price</th>\n",
       "    </tr>\n",
       "  </thead>\n",
       "  <tbody>\n",
       "    <tr>\n",
       "      <th>500</th>\n",
       "      <td>2015-09-29 0:00</td>\n",
       "      <td>237.68</td>\n",
       "    </tr>\n",
       "    <tr>\n",
       "      <th>501</th>\n",
       "      <td>2015-10-01 0:00</td>\n",
       "      <td>238.98</td>\n",
       "    </tr>\n",
       "    <tr>\n",
       "      <th>502</th>\n",
       "      <td>2015-10-03 0:00</td>\n",
       "      <td>239.17</td>\n",
       "    </tr>\n",
       "    <tr>\n",
       "      <th>503</th>\n",
       "      <td>2015-10-05 0:00</td>\n",
       "      <td>239.22</td>\n",
       "    </tr>\n",
       "    <tr>\n",
       "      <th>504</th>\n",
       "      <td>2015-10-07 0:00</td>\n",
       "      <td>245.25</td>\n",
       "    </tr>\n",
       "    <tr>\n",
       "      <th>505</th>\n",
       "      <td>2015-10-09 0:00</td>\n",
       "      <td>244.78</td>\n",
       "    </tr>\n",
       "    <tr>\n",
       "      <th>506</th>\n",
       "      <td>2015-10-11 0:00</td>\n",
       "      <td>248.08</td>\n",
       "    </tr>\n",
       "    <tr>\n",
       "      <th>507</th>\n",
       "      <td>2015-10-13 0:00</td>\n",
       "      <td>249.58</td>\n",
       "    </tr>\n",
       "    <tr>\n",
       "      <th>508</th>\n",
       "      <td>2015-10-15 0:00</td>\n",
       "      <td>254.73</td>\n",
       "    </tr>\n",
       "    <tr>\n",
       "      <th>509</th>\n",
       "      <td>2015-10-17 0:00</td>\n",
       "      <td>269.07</td>\n",
       "    </tr>\n",
       "  </tbody>\n",
       "</table>\n",
       "</div>"
      ],
      "text/plain": [
       "                date   price\n",
       "500  2015-09-29 0:00  237.68\n",
       "501  2015-10-01 0:00  238.98\n",
       "502  2015-10-03 0:00  239.17\n",
       "503  2015-10-05 0:00  239.22\n",
       "504  2015-10-07 0:00  245.25\n",
       "505  2015-10-09 0:00  244.78\n",
       "506  2015-10-11 0:00  248.08\n",
       "507  2015-10-13 0:00  249.58\n",
       "508  2015-10-15 0:00  254.73\n",
       "509  2015-10-17 0:00  269.07"
      ]
     },
     "execution_count": 5,
     "metadata": {},
     "output_type": "execute_result"
    }
   ],
   "source": [
    "sample_data = raw_data[500:510]\n",
    "sample_data"
   ]
  },
  {
   "cell_type": "code",
   "execution_count": 6,
   "metadata": {},
   "outputs": [
    {
     "data": {
      "image/png": "[encoded data removed]",
      "text/plain": [
       "<Figure size 1080x720 with 1 Axes>"
      ]
     },
     "metadata": {},
     "output_type": "display_data"
    }
   ],
   "source": [
    "plt.figure(figsize=(15, 10))\n",
    "plt.plot(sample_data['date'],sample_data['price'],'o-')\n",
    "plt.title(\"Bitcoin Price\", fontdict={'size':15})\n",
    "plt.xlabel('Date', fontdict={'size':15})\n",
    "plt.ylabel('Price', fontdict={'size':15})\n",
    "plt.show()"
   ]
  },
  {
   "cell_type": "code",
   "execution_count": 7,
   "metadata": {},
   "outputs": [],
   "source": [
    "data = raw_data['price']"
   ]
  },
  {
   "cell_type": "markdown",
   "metadata": {},
   "source": [
    "## 21.2 Define Model"
   ]
  },
  {
   "cell_type": "code",
   "execution_count": 8,
   "metadata": {},
   "outputs": [],
   "source": [
    "# Parameters:\t\n",
    "# input_size – The number of expected features in the input x\n",
    "# hidden_size – The number of features in the hidden state h\n",
    "# num_layers – Number of recurrent layers. E.g., setting num_layers=2 would mean stacking two RNNs together to form a stacked RNN, with the second RNN taking in outputs of the first RNN and computing the final results. Default: 1\n",
    "# nonlinearity – The non-linearity to use. Can be either ‘tanh’ or ‘relu’. Default: ‘tanh’\n",
    "# bias – If False, then the layer does not use bias weights b_ih and b_hh. Default: True\n",
    "# batch_first – If True, then the input and output tensors are provided as (batch, seq, feature). Default: False\n",
    "# dropout – If non-zero, introduces a Dropout layer on the outputs of each RNN layer except the last layer, with dropout probability equal to dropout. Default: 0\n",
    "# bidirectional – If True, becomes a bidirectional RNN. Default: False"
   ]
  },
  {
   "cell_type": "code",
   "execution_count": 9,
   "metadata": {},
   "outputs": [],
   "source": [
    "class RNN(nn.Module):\n",
    "    def __init__(self, input_size, hidden_size, output_size, num_layers):\n",
    "        super(RNN, self).__init__()\n",
    "        self.input_size = input_size\n",
    "        self.hidden_size = hidden_size\n",
    "        self.output_size = output_size\n",
    "        self.num_layers = num_layers\n",
    "        \n",
    "        self.rnn = nn.RNN(input_size,hidden_size,num_layers, nonlinearity='relu')\n",
    "        self.fc = nn.Linear(hidden_size, output_size)\n",
    "        \n",
    "    def forward(self, input, hidden):\n",
    "        out,hidden = self.rnn(input.view(1,1,-1),hidden)\n",
    "        out = self.fc(out.view(1,-1))\n",
    "        return out,hidden\n",
    "\n",
    "    def init_hidden(self):\n",
    "        hidden = Variable(torch.zeros(self.num_layers, 1, self.hidden_size)).cuda()\n",
    "        return hidden"
   ]
  },
  {
   "cell_type": "code",
   "execution_count": 10,
   "metadata": {},
   "outputs": [],
   "source": [
    "input_window = 10\n",
    "hidden_layer = 32\n",
    "target_window = 1\n",
    "vertical_layer = 2\n",
    "step = 10"
   ]
  },
  {
   "cell_type": "code",
   "execution_count": 11,
   "metadata": {},
   "outputs": [],
   "source": [
    "model = RNN(input_window, hidden_layer, target_window, vertical_layer).cuda()"
   ]
  },
  {
   "cell_type": "markdown",
   "metadata": {},
   "source": [
    "## 21.3 Train Model"
   ]
  },
  {
   "cell_type": "code",
   "execution_count": 12,
   "metadata": {},
   "outputs": [],
   "source": [
    "optimizer = torch.optim.Adam(model.parameters(), lr=0.001)\n",
    "loss = nn.MSELoss()"
   ]
  },
  {
   "cell_type": "code",
   "execution_count": 13,
   "metadata": {},
   "outputs": [],
   "source": [
    "num_epochs = 3"
   ]
  },
  {
   "cell_type": "code",
   "execution_count": 14,
   "metadata": {
    "scrolled": true
   },
   "outputs": [
    {
     "name": "stdout",
     "output_type": "stream",
     "text": [
      "Epoch [1/3], Iter [10/90] Loss: 3673212.5000\n",
      "Epoch [1/3], Iter [20/90] Loss: 623504.5625\n",
      "Epoch [1/3], Iter [30/90] Loss: 55020.9805\n",
      "Epoch [1/3], Iter [40/90] Loss: 44211.5391\n",
      "Epoch [1/3], Iter [50/90] Loss: 1220468.3750\n",
      "Epoch [1/3], Iter [60/90] Loss: 244552.1562\n",
      "Epoch [1/3], Iter [70/90] Loss: 30844.3301\n",
      "Epoch [1/3], Iter [80/90] Loss: 128299672.0000\n",
      "Epoch [1/3], Iter [90/90] Loss: 357671.4375\n",
      "Epoch [2/3], Iter [10/90] Loss: 303620.4375\n",
      "Epoch [2/3], Iter [20/90] Loss: 621373.5625\n",
      "Epoch [2/3], Iter [30/90] Loss: 3837586.2500\n",
      "Epoch [2/3], Iter [40/90] Loss: 8685631.0000\n",
      "Epoch [2/3], Iter [50/90] Loss: 2513585.2500\n",
      "Epoch [2/3], Iter [60/90] Loss: 1127547.8750\n",
      "Epoch [2/3], Iter [70/90] Loss: 3469789.0000\n",
      "Epoch [2/3], Iter [80/90] Loss: 1368381.7500\n",
      "Epoch [2/3], Iter [90/90] Loss: 1081591.2500\n",
      "Epoch [3/3], Iter [10/90] Loss: 3313621.5000\n",
      "Epoch [3/3], Iter [20/90] Loss: 1305597.0000\n",
      "Epoch [3/3], Iter [30/90] Loss: 4271.6289\n",
      "Epoch [3/3], Iter [40/90] Loss: 5897433.0000\n",
      "Epoch [3/3], Iter [50/90] Loss: 549756.0000\n",
      "Epoch [3/3], Iter [60/90] Loss: 165147.3594\n",
      "Epoch [3/3], Iter [70/90] Loss: 95808.5547\n",
      "Epoch [3/3], Iter [80/90] Loss: 349793.3125\n",
      "Epoch [3/3], Iter [90/90] Loss: 10557201.0000\n"
     ]
    }
   ],
   "source": [
    "for epoch in range(num_epochs):\n",
    "    \n",
    "    sp = []\n",
    "    for i in range(len(data)//input_window) :\n",
    "        sp.append(random.randint(0, len(data)-2*input_window-step))\n",
    "    random.shuffle(sp)\n",
    "    \n",
    "    for i in range(len(sp)) :\n",
    "    \n",
    "        hidden = model.init_hidden()\n",
    "\n",
    "        cost = 0\n",
    "\n",
    "        for pos in range(sp[i], sp[i] + step):\n",
    "            X = Variable(torch.from_numpy(data[pos:pos+input_window].values).type(torch.FloatTensor)).cuda()\n",
    "            y = torch.from_numpy(data[pos+input_window:pos+input_window+target_window].values).type(torch.FloatTensor).cuda()\n",
    "            \n",
    "            pre, hidden = model(X,hidden)\n",
    "            cost += loss(pre,Variable(y).cuda())\n",
    "\n",
    "        cost.backward()\n",
    "        optimizer.step()\n",
    "\n",
    "        if (i + 1) % 10 == 0 :\n",
    "            print('Epoch [%d/%d], Iter [%d/%d] Loss: %.4f'\n",
    "                     %(epoch+1, num_epochs, i + 1, len(sp), cost.data[0]))"
   ]
  },
  {
   "cell_type": "markdown",
   "metadata": {},
   "source": [
    "## 21.4 Test Model"
   ]
  },
  {
   "cell_type": "code",
   "execution_count": 15,
   "metadata": {
    "scrolled": false
   },
   "outputs": [],
   "source": [
    "model.eval()\n",
    "\n",
    "hidden = model.init_hidden()\n",
    "pre = []\n",
    "\n",
    "for i in range(len(data)-input_window) :\n",
    "    X = Variable(torch.from_numpy(data[i:i+input_window].values).type(torch.FloatTensor)).cuda()\n",
    "    y, hidden = model(X, hidden)\n",
    "    pre.append(y.data[0].cpu().numpy())\n",
    "\n",
    "pre = np.concatenate((raw_data['price'][0:input_window], pre), axis=None)"
   ]
  },
  {
   "cell_type": "code",
   "execution_count": 16,
   "metadata": {},
   "outputs": [
    {
     "data": {
      "image/png": "[encoded data removed]",
      "text/plain": [
       "<Figure size 1080x720 with 1 Axes>"
      ]
     },
     "metadata": {},
     "output_type": "display_data"
    }
   ],
   "source": [
    "plt.figure(figsize=(15, 10))\n",
    "\n",
    "plt.plot(raw_data['date'],raw_data['price'],'o-', alpha=0.7)\n",
    "plt.plot(raw_data['date'],pre, '*-', alpha=0.7)\n",
    "\n",
    "plt.title(\"Predict & Real\", fontdict={'size':15})\n",
    "\n",
    "plt.xlabel('Date', fontdict={'size':15})\n",
    "plt.xticks([])\n",
    "\n",
    "plt.ylabel('Price', fontdict={'size':15})\n",
    "\n",
    "plt.text(20, 18000, 'R2=%.4f' % metrics.r2_score(pre, raw_data['price']), fontdict={'size':15, 'color':'red'})\n",
    "\n",
    "plt.show()"
   ]
  }
 ],
 "metadata": {
  "kernelspec": {
   "display_name": "Python [default]",
   "language": "python",
   "name": "python3"
  },
  "language_info": {
   "codemirror_mode": {
    "name": "ipython",
    "version": 3
   },
   "file_extension": ".py",
   "mimetype": "text/x-python",
   "name": "python",
   "nbconvert_exporter": "python",
   "pygments_lexer": "ipython3",
   "version": "3.6.4"
  }
 },
 "nbformat": 4,
 "nbformat_minor": 2
}
