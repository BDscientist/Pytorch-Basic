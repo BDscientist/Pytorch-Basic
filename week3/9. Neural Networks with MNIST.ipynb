{
 "cells": [
  {
   "cell_type": "markdown",
   "metadata": {},
   "source": [
    "# 9. Neural Networks with MNIST"
   ]
  },
  {
   "cell_type": "code",
   "execution_count": 1,
   "metadata": {},
   "outputs": [],
   "source": [
    "import torch\n",
    "import torch.nn as nn\n",
    "import torch.optim as optim\n",
    "\n",
    "import torch.nn.init\n",
    "from torch.autograd import Variable\n",
    "\n",
    "import torchvision.utils as utils\n",
    "import torchvision.datasets as dsets\n",
    "import torchvision.transforms as transforms\n",
    "\n",
    "import numpy as np\n",
    "import random"
   ]
  },
  {
   "cell_type": "code",
   "execution_count": 2,
   "metadata": {},
   "outputs": [],
   "source": [
    "import matplotlib.pyplot as plt\n",
    "%matplotlib inline"
   ]
  },
  {
   "cell_type": "markdown",
   "metadata": {},
   "source": [
    "## 9.1 Preparing MNIST Data"
   ]
  },
  {
   "cell_type": "code",
   "execution_count": 3,
   "metadata": {},
   "outputs": [],
   "source": [
    "mnist_train = dsets.MNIST(root='data/',\n",
    "                          train=True,\n",
    "                          transform=transforms.ToTensor(),\n",
    "                          download=True)\n",
    "\n",
    "mnist_test = dsets.MNIST(root='data/',\n",
    "                         train=False,\n",
    "                         transform=transforms.ToTensor(),\n",
    "                         download=True)"
   ]
  },
  {
   "cell_type": "code",
   "execution_count": 4,
   "metadata": {
    "scrolled": true
   },
   "outputs": [
    {
     "data": {
      "text/plain": [
       "(torch.Size([60000, 28, 28]), torch.Size([10000, 28, 28]))"
      ]
     },
     "execution_count": 4,
     "metadata": {},
     "output_type": "execute_result"
    }
   ],
   "source": [
    "mnist_train.train_data.size(), mnist_test.test_data.size()"
   ]
  },
  {
   "cell_type": "code",
   "execution_count": 5,
   "metadata": {},
   "outputs": [
    {
     "data": {
      "text/plain": [
       "<matplotlib.image.AxesImage at 0x1750b3c7470>"
      ]
     },
     "execution_count": 5,
     "metadata": {},
     "output_type": "execute_result"
    },
    {
     "data": {
      "image/png": "[encoded data removed]",
      "text/plain": [
       "<matplotlib.figure.Figure at 0x1750b284710>"
      ]
     },
     "metadata": {},
     "output_type": "display_data"
    }
   ],
   "source": [
    "fig = plt.figure(figsize = (15, 5))\n",
    "ax1 = fig.add_subplot(1, 3, 1)\n",
    "ax2 = fig.add_subplot(1, 3, 2)\n",
    "ax3 = fig.add_subplot(1, 3, 3)\n",
    "\n",
    "ax1.set_title(mnist_train.train_labels[0])\n",
    "ax1.imshow(mnist_train.train_data[0,:,:].numpy(), cmap='gray')\n",
    "\n",
    "ax2.set_title(mnist_train.train_labels[1])\n",
    "ax2.imshow(mnist_train.train_data[1,:,:].numpy(), cmap='gray')\n",
    "\n",
    "ax3.set_title(mnist_train.train_labels[2])\n",
    "ax3.imshow(mnist_train.train_data[2,:,:].numpy(), cmap='gray')"
   ]
  },
  {
   "cell_type": "markdown",
   "metadata": {},
   "source": [
    "## 9.2 Batch Training"
   ]
  },
  {
   "cell_type": "code",
   "execution_count": 6,
   "metadata": {},
   "outputs": [],
   "source": [
    "batch_size = 100\n",
    "\n",
    "data_loader  = torch.utils.data.DataLoader(dataset=mnist_train,\n",
    "                                          batch_size=batch_size,\n",
    "                                          shuffle=True,\n",
    "                                          num_workers=1)\n",
    "\n",
    "# dataset (Dataset) – dataset from which to load the data.\n",
    "# batch_size (int, optional) – how many samples per batch to load (default: 1).\n",
    "# shuffle (bool, optional) – set to True to have the data reshuffled at every epoch (default: False).\n",
    "# num_workers (int, optional) – how many subprocesses to use for data loading. 0 means that the data will be loaded in the main process. (default: 0)"
   ]
  },
  {
   "cell_type": "code",
   "execution_count": 7,
   "metadata": {},
   "outputs": [
    {
     "name": "stdout",
     "output_type": "stream",
     "text": [
      "[6 1 4 8 1 6 6 7 9 2 3 7 9 5 4 9 4 8 0 8 6 2 6 4 1 0 6 6 0 3 0 4 9 7 5 7 2\n",
      " 2 0 5 5 5 1 6 1 9 0 5 1 9 6 0 9 9 6 8 6 3 1 2 9 0 6 9 3 9 5 6 5 1 7 8 5 7\n",
      " 3 2 6 4 4 0 6 0 0 7 9 7 4 4 1 0 9 4 6 8 5 2 0 4 7 2] ,  100\n",
      "[4 2 3 9 5 0 7 0 3 9 5 5 9 4 7 0 4 4 7 2 6 9 9 3 4 8 2 6 4 6 0 6 3 6 2 4 0\n",
      " 4 0 7 7 7 7 2 5 9 6 5 9 1 7 5 8 1 2 0 3 1 1 5 8 2 6 6 9 0 3 6 6 4 7 6 3 1\n",
      " 2 8 4 8 3 8 1 9 8 7 0 3 2 7 9 7 6 3 4 3 7 3 5 5 7 7] ,  100\n",
      "[7 0 2 8 4 5 4 8 2 0 3 1 7 5 3 4 2 5 5 7 1 3 0 7 6 4 2 3 8 5 5 2 5 2 8 5 3\n",
      " 9 3 3 4 2 1 1 2 1 2 7 1 0 1 5 9 1 6 0 8 4 5 3 0 1 1 1 8 1 9 8 1 8 4 8 1 9\n",
      " 9 4 1 8 1 0 7 3 6 6 4 9 5 4 7 6 4 2 8 7 5 4 4 3 9 8] ,  100\n"
     ]
    }
   ],
   "source": [
    "for i in range(3) :\n",
    "    batch_images, batch_labels = next(iter(data_loader))\n",
    "    print(batch_labels.numpy(), \", \", len(batch_labels.numpy()))"
   ]
  },
  {
   "cell_type": "markdown",
   "metadata": {},
   "source": [
    "## 9.3 Define Model"
   ]
  },
  {
   "cell_type": "code",
   "execution_count": 8,
   "metadata": {},
   "outputs": [],
   "source": [
    "linear1 = torch.nn.Linear(784, 512, bias = True)\n",
    "relu = torch.nn.ReLU()\n",
    "linear2 = torch.nn.Linear(512, 10, bias = True)\n",
    "\n",
    "model = torch.nn.Sequential(linear1, relu, linear2)"
   ]
  },
  {
   "cell_type": "code",
   "execution_count": 9,
   "metadata": {},
   "outputs": [],
   "source": [
    "loss = nn.CrossEntropyLoss()\n",
    "optimizer = optim.SGD(model.parameters(), lr=0.001)\n",
    "\n",
    "# def cross_entropy(input, target, weight=None, size_average=True, ignore_index=-100, reduce=True):\n",
    "\n",
    "# Args:\n",
    "#     input: Variable :math:`(N, C)` where `C = number of classes`\n",
    "#     target: Variable :math:`(N)` where each value is\n",
    "#         `0 <= targets[i] <= C-1`\n",
    "#     weight (Tensor, optional): a manual rescaling weight given to each"
   ]
  },
  {
   "cell_type": "code",
   "execution_count": 10,
   "metadata": {},
   "outputs": [],
   "source": [
    "num_epochs = 5"
   ]
  },
  {
   "cell_type": "code",
   "execution_count": 11,
   "metadata": {},
   "outputs": [
    {
     "name": "stdout",
     "output_type": "stream",
     "text": [
      "Epoch [1/5], lter [100/600] Loss: 2.2857\n",
      "Epoch [1/5], lter [200/600] Loss: 2.2734\n",
      "Epoch [1/5], lter [300/600] Loss: 2.2424\n",
      "Epoch [1/5], lter [400/600] Loss: 2.2158\n",
      "Epoch [1/5], lter [500/600] Loss: 2.1888\n",
      "Epoch [1/5], lter [600/600] Loss: 2.1700\n",
      "Epoch [2/5], lter [100/600] Loss: 2.1514\n",
      "Epoch [2/5], lter [200/600] Loss: 2.1191\n",
      "Epoch [2/5], lter [300/600] Loss: 2.0903\n",
      "Epoch [2/5], lter [400/600] Loss: 2.0700\n",
      "Epoch [2/5], lter [500/600] Loss: 2.0323\n",
      "Epoch [2/5], lter [600/600] Loss: 2.0253\n",
      "Epoch [3/5], lter [100/600] Loss: 1.9775\n",
      "Epoch [3/5], lter [200/600] Loss: 1.9706\n",
      "Epoch [3/5], lter [300/600] Loss: 1.9248\n",
      "Epoch [3/5], lter [400/600] Loss: 1.9270\n",
      "Epoch [3/5], lter [500/600] Loss: 1.8531\n",
      "Epoch [3/5], lter [600/600] Loss: 1.8611\n",
      "Epoch [4/5], lter [100/600] Loss: 1.7683\n",
      "Epoch [4/5], lter [200/600] Loss: 1.7521\n",
      "Epoch [4/5], lter [300/600] Loss: 1.7594\n",
      "Epoch [4/5], lter [400/600] Loss: 1.7312\n",
      "Epoch [4/5], lter [500/600] Loss: 1.6057\n",
      "Epoch [4/5], lter [600/600] Loss: 1.6487\n",
      "Epoch [5/5], lter [100/600] Loss: 1.5817\n",
      "Epoch [5/5], lter [200/600] Loss: 1.5618\n",
      "Epoch [5/5], lter [300/600] Loss: 1.5501\n",
      "Epoch [5/5], lter [400/600] Loss: 1.4690\n",
      "Epoch [5/5], lter [500/600] Loss: 1.5462\n",
      "Epoch [5/5], lter [600/600] Loss: 1.3699\n",
      "Learning Finished!\n"
     ]
    }
   ],
   "source": [
    "for epoch in range(num_epochs):\n",
    "    \n",
    "    total_batch = len(mnist_train) // batch_size\n",
    "    \n",
    "    for i, (batch_images, batch_labels) in enumerate(data_loader):\n",
    "        \n",
    "        X = Variable(batch_images.view(-1, 28 * 28))\n",
    "        Y = Variable(batch_labels)\n",
    "        \n",
    "        pre = model(X)\n",
    "        cost = loss(pre, Y)\n",
    "        \n",
    "        optimizer.zero_grad()\n",
    "        cost.backward()\n",
    "        optimizer.step()\n",
    "        \n",
    "        if (i+1) % 100 == 0:\n",
    "            print('Epoch [%d/%d], lter [%d/%d] Loss: %.4f'\n",
    "                 %(epoch+1, num_epochs, i+1, total_batch, cost.data[0]))\n",
    "    \n",
    "print(\"Learning Finished!\")"
   ]
  },
  {
   "cell_type": "markdown",
   "metadata": {},
   "source": [
    "## 9.4 Test Model"
   ]
  },
  {
   "cell_type": "code",
   "execution_count": 12,
   "metadata": {},
   "outputs": [
    {
     "name": "stdout",
     "output_type": "stream",
     "text": [
      "Accuracy of test images: 78.120000 %\n"
     ]
    }
   ],
   "source": [
    "model.eval()\n",
    "\n",
    "correct = 0\n",
    "total = 0\n",
    "\n",
    "for images, labels in mnist_test:\n",
    "    \n",
    "    images  = Variable(images.view(-1, 28 * 28))\n",
    "    outputs = model(images)\n",
    "    \n",
    "    _, predicted = torch.max(outputs.data, 1)\n",
    "    total += 1\n",
    "    correct += (predicted == labels).sum()\n",
    "    \n",
    "print('Accuracy of test images: %f %%' % (100 * correct / total))"
   ]
  },
  {
   "cell_type": "code",
   "execution_count": 13,
   "metadata": {},
   "outputs": [],
   "source": [
    "r = random.randint(0, len(mnist_test)-1)\n",
    "X_single_data = Variable(mnist_test.test_data[r:r + 1].view(-1,28*28).float())\n",
    "Y_single_data = Variable(mnist_test.test_labels[r:r + 1])"
   ]
  },
  {
   "cell_type": "code",
   "execution_count": 14,
   "metadata": {},
   "outputs": [
    {
     "name": "stdout",
     "output_type": "stream",
     "text": [
      "Label :  [4]\n",
      "Prediction :  [4]\n"
     ]
    },
    {
     "data": {
      "image/png": "[encoded data removed]",
      "text/plain": [
       "<matplotlib.figure.Figure at 0x17507de2f98>"
      ]
     },
     "metadata": {},
     "output_type": "display_data"
    }
   ],
   "source": [
    "single_pre = model(X_single_data)\n",
    "plt.imshow(X_single_data.data.view(28,28).numpy(), cmap='gray')\n",
    "\n",
    "print('Label : ', Y_single_data.data.view(1).numpy())\n",
    "print('Prediction : ', torch.max(single_pre.data, 1)[1].numpy())"
   ]
  },
  {
   "cell_type": "markdown",
   "metadata": {},
   "source": [
    "## 9.5 Black Box"
   ]
  },
  {
   "cell_type": "code",
   "execution_count": 15,
   "metadata": {},
   "outputs": [
    {
     "name": "stdout",
     "output_type": "stream",
     "text": [
      "Prediction :  [0]\n"
     ]
    },
    {
     "data": {
      "image/png": "[encoded data removed]",
      "text/plain": [
       "<matplotlib.figure.Figure at 0x1750b418518>"
      ]
     },
     "metadata": {},
     "output_type": "display_data"
    }
   ],
   "source": [
    "blackbox = Variable(torch.rand(X_single_data.size()))\n",
    "blackbox_pre = model(blackbox)\n",
    "\n",
    "plt.imshow(blackbox.data.view(28,28).numpy(), cmap='gray')\n",
    "\n",
    "print('Prediction : ', torch.max(blackbox_pre.data, 1)[1].numpy())"
   ]
  }
 ],
 "metadata": {
  "kernelspec": {
   "display_name": "Python 3",
   "language": "python",
   "name": "python3"
  },
  "language_info": {
   "codemirror_mode": {
    "name": "ipython",
    "version": 3
   },
   "file_extension": ".py",
   "mimetype": "text/x-python",
   "name": "python",
   "nbconvert_exporter": "python",
   "pygments_lexer": "ipython3",
   "version": "3.6.4"
  }
 },
 "nbformat": 4,
 "nbformat_minor": 2
}
