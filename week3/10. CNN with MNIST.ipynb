{
 "cells": [
  {
   "cell_type": "markdown",
   "metadata": {},
   "source": [
    "# 10. CNN with MNIST"
   ]
  },
  {
   "cell_type": "code",
   "execution_count": 1,
   "metadata": {},
   "outputs": [],
   "source": [
    "import torch\n",
    "import torch.nn as nn\n",
    "import torch.optim as optim\n",
    "\n",
    "import torch.nn.init\n",
    "from torch.autograd import Variable\n",
    "\n",
    "import torchvision.utils as utils\n",
    "import torchvision.datasets as dsets\n",
    "import torchvision.transforms as transforms\n",
    "\n",
    "import numpy as np\n",
    "import random\n",
    "import os"
   ]
  },
  {
   "cell_type": "markdown",
   "metadata": {},
   "source": [
    "## 10.1 Preparing MNIST Data"
   ]
  },
  {
   "cell_type": "code",
   "execution_count": 2,
   "metadata": {},
   "outputs": [],
   "source": [
    "mnist_train = dsets.MNIST(root='data/',\n",
    "                          train=True,\n",
    "                          transform=transforms.ToTensor(),\n",
    "                          download=True)\n",
    "\n",
    "mnist_test = dsets.MNIST(root='data/',\n",
    "                         train=False,\n",
    "                         transform=transforms.ToTensor(),\n",
    "                         download=True)"
   ]
  },
  {
   "cell_type": "code",
   "execution_count": 3,
   "metadata": {},
   "outputs": [],
   "source": [
    "batch_size = 100\n",
    "\n",
    "train_loader  = torch.utils.data.DataLoader(dataset=mnist_train,\n",
    "                                           batch_size=batch_size,\n",
    "                                           shuffle=False)\n",
    "\n",
    "test_loader = torch.utils.data.DataLoader(dataset=mnist_test,\n",
    "                                         batch_size=batch_size,\n",
    "                                         shuffle=False)"
   ]
  },
  {
   "cell_type": "markdown",
   "metadata": {},
   "source": [
    "## 10.2 Define Model"
   ]
  },
  {
   "cell_type": "code",
   "execution_count": 4,
   "metadata": {},
   "outputs": [],
   "source": [
    "class CNN(nn.Module):\n",
    "    def __init__(self):\n",
    "        super(CNN, self).__init__()\n",
    "        \n",
    "        self.layer = nn.Sequential(\n",
    "            nn.Conv2d(1,16,5),\n",
    "            nn.ReLU(),\n",
    "            nn.Conv2d(16,32,5),\n",
    "            nn.ReLU(),\n",
    "            nn.MaxPool2d(2,2),\n",
    "            nn.Conv2d(32,64,5),\n",
    "            nn.ReLU(),\n",
    "            nn.MaxPool2d(2,2)\n",
    "        )\n",
    "        \n",
    "        self.fc_layer = nn.Sequential(\n",
    "            nn.Linear(64*3*3,100),\n",
    "            nn.ReLU(),\n",
    "            nn.Linear(100,10)\n",
    "        )       \n",
    "        \n",
    "    def forward(self,x):\n",
    "        out = self.layer(x)\n",
    "        out = out.view(batch_size,-1)\n",
    "        out = self.fc_layer(out)\n",
    "\n",
    "        return out"
   ]
  },
  {
   "cell_type": "code",
   "execution_count": 5,
   "metadata": {},
   "outputs": [],
   "source": [
    "model = CNN().cuda()"
   ]
  },
  {
   "cell_type": "code",
   "execution_count": 6,
   "metadata": {},
   "outputs": [],
   "source": [
    "loss = nn.CrossEntropyLoss()\n",
    "optimizer = optim.SGD(model.parameters(), lr=0.1)"
   ]
  },
  {
   "cell_type": "code",
   "execution_count": 7,
   "metadata": {},
   "outputs": [],
   "source": [
    "num_epochs = 5"
   ]
  },
  {
   "cell_type": "code",
   "execution_count": 8,
   "metadata": {
    "scrolled": false
   },
   "outputs": [
    {
     "name": "stdout",
     "output_type": "stream",
     "text": [
      "Epoch [1/5], lter [100/600] Loss: 0.6938\n",
      "Epoch [1/5], lter [200/600] Loss: 0.2466\n",
      "Epoch [1/5], lter [300/600] Loss: 0.2362\n",
      "Epoch [1/5], lter [400/600] Loss: 0.1060\n",
      "Epoch [1/5], lter [500/600] Loss: 0.1295\n",
      "Epoch [1/5], lter [600/600] Loss: 0.2647\n",
      "Epoch [2/5], lter [100/600] Loss: 0.0219\n",
      "Epoch [2/5], lter [200/600] Loss: 0.0438\n",
      "Epoch [2/5], lter [300/600] Loss: 0.0688\n",
      "Epoch [2/5], lter [400/600] Loss: 0.0398\n",
      "Epoch [2/5], lter [500/600] Loss: 0.0607\n",
      "Epoch [2/5], lter [600/600] Loss: 0.2283\n",
      "Epoch [3/5], lter [100/600] Loss: 0.0109\n",
      "Epoch [3/5], lter [200/600] Loss: 0.0218\n",
      "Epoch [3/5], lter [300/600] Loss: 0.0232\n",
      "Epoch [3/5], lter [400/600] Loss: 0.0243\n",
      "Epoch [3/5], lter [500/600] Loss: 0.0467\n",
      "Epoch [3/5], lter [600/600] Loss: 0.2067\n",
      "Epoch [4/5], lter [100/600] Loss: 0.0094\n",
      "Epoch [4/5], lter [200/600] Loss: 0.0096\n",
      "Epoch [4/5], lter [300/600] Loss: 0.0126\n",
      "Epoch [4/5], lter [400/600] Loss: 0.0191\n",
      "Epoch [4/5], lter [500/600] Loss: 0.0289\n",
      "Epoch [4/5], lter [600/600] Loss: 0.2089\n",
      "Epoch [5/5], lter [100/600] Loss: 0.0099\n",
      "Epoch [5/5], lter [200/600] Loss: 0.0069\n",
      "Epoch [5/5], lter [300/600] Loss: 0.0123\n",
      "Epoch [5/5], lter [400/600] Loss: 0.0131\n",
      "Epoch [5/5], lter [500/600] Loss: 0.0205\n",
      "Epoch [5/5], lter [600/600] Loss: 0.2051\n"
     ]
    }
   ],
   "source": [
    "if os.path.isfile('_.pkl'):\n",
    "    model.load_state_dict(torch.load('cnn.pkl'))\n",
    "    print(\"Model Loaded!\")\n",
    "\n",
    "else:\n",
    "    \n",
    "    for epoch in range(num_epochs):\n",
    "\n",
    "        total_batch = len(mnist_train) // batch_size\n",
    "\n",
    "        for i, (batch_images, batch_labels) in enumerate(train_loader):\n",
    "\n",
    "            X = Variable(batch_images).cuda()\n",
    "            Y = Variable(batch_labels).cuda()\n",
    "\n",
    "            pre = model(X)\n",
    "            cost = loss(pre, Y)\n",
    "\n",
    "            optimizer.zero_grad()\n",
    "            cost.backward()\n",
    "            optimizer.step()\n",
    "\n",
    "            if (i+1) % 100 == 0:\n",
    "                print('Epoch [%d/%d], lter [%d/%d] Loss: %.4f'\n",
    "                     %(epoch+1, num_epochs, i+1, total_batch, cost.data[0]))\n",
    "\n",
    "    if not os.path.isfile('cnn.pkl'):\n",
    "        print(\"Model Saved!\")\n",
    "        torch.save(model.state_dict(), 'cnn.pkl')"
   ]
  },
  {
   "cell_type": "markdown",
   "metadata": {},
   "source": [
    "## 10.3 Test Model"
   ]
  },
  {
   "cell_type": "code",
   "execution_count": 9,
   "metadata": {},
   "outputs": [
    {
     "name": "stdout",
     "output_type": "stream",
     "text": [
      "Accuracy of test images: 98.790000 %\n"
     ]
    }
   ],
   "source": [
    "model.eval()\n",
    "\n",
    "correct = 0\n",
    "total = 0\n",
    "\n",
    "for images, labels in test_loader:\n",
    "    \n",
    "    images = Variable(images).cuda()\n",
    "    outputs = model(images)\n",
    "    \n",
    "    _, predicted = torch.max(outputs.data, 1)\n",
    "    \n",
    "    total += labels.size(0)\n",
    "    correct += (predicted == labels.cuda()).sum()\n",
    "    \n",
    "print('Accuracy of test images: %f %%' % (100 * correct / total))"
   ]
  }
 ],
 "metadata": {
  "kernelspec": {
   "display_name": "Python 3",
   "language": "python",
   "name": "python3"
  },
  "language_info": {
   "codemirror_mode": {
    "name": "ipython",
    "version": 3
   },
   "file_extension": ".py",
   "mimetype": "text/x-python",
   "name": "python",
   "nbconvert_exporter": "python",
   "pygments_lexer": "ipython3",
   "version": "3.6.4"
  }
 },
 "nbformat": 4,
 "nbformat_minor": 2
}
