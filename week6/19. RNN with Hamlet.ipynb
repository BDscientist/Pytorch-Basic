{
 "cells": [
  {
   "cell_type": "markdown",
   "metadata": {},
   "source": [
    "# 19. RNN with Hamlet"
   ]
  },
  {
   "cell_type": "code",
   "execution_count": 1,
   "metadata": {},
   "outputs": [],
   "source": [
    "import torch\n",
    "import torch.nn as nn\n",
    "from torch.autograd import Variable\n",
    "\n",
    "import nltk\n",
    "from nltk.tokenize import word_tokenize\n",
    "from nltk.tag import pos_tag\n",
    "\n",
    "from sklearn.feature_extraction.text import CountVectorizer\n",
    "\n",
    "import random\n",
    "import numpy as np"
   ]
  },
  {
   "cell_type": "markdown",
   "metadata": {},
   "source": [
    "## 19.1 Preparing Data"
   ]
  },
  {
   "cell_type": "code",
   "execution_count": 2,
   "metadata": {},
   "outputs": [
    {
     "name": "stdout",
     "output_type": "stream",
     "text": [
      "[nltk_data] Downloading package gutenberg to\n",
      "[nltk_data]     C:\\Users\\slcf\\AppData\\Roaming\\nltk_data...\n",
      "[nltk_data]   Package gutenberg is already up-to-date!\n",
      "[nltk_data] Downloading package stopwords to\n",
      "[nltk_data]     C:\\Users\\slcf\\AppData\\Roaming\\nltk_data...\n",
      "[nltk_data]   Package stopwords is already up-to-date!\n"
     ]
    },
    {
     "data": {
      "text/plain": [
       "True"
      ]
     },
     "execution_count": 2,
     "metadata": {},
     "output_type": "execute_result"
    }
   ],
   "source": [
    "nltk.download(\"gutenberg\")\n",
    "nltk.download(\"stopwords\")"
   ]
  },
  {
   "cell_type": "code",
   "execution_count": 3,
   "metadata": {},
   "outputs": [
    {
     "name": "stdout",
     "output_type": "stream",
     "text": [
      "[The Tragedie of Hamlet by William Shakespeare 1599]\n",
      "\n",
      "\n",
      "Actus Primus. Scoena Prima.\n",
      "\n",
      "Enter Barnardo and Francisco two Centinels.\n",
      "\n",
      "  Barnardo. Who's there?\n",
      "  Fran. Nay answer me: Stand & vnfold\n",
      "your selfe\n",
      "\n",
      "   Bar. Long liue the King\n",
      "\n",
      "   Fran. Barnardo?\n",
      "  Bar. He\n",
      "\n",
      "   Fran. You come most carefully vpon your houre\n",
      "\n",
      "   Bar. 'Tis now strook twelue, get thee to bed Francisco\n",
      "\n",
      "   Fran. For this releefe much thankes: 'Tis bitter cold,\n",
      "And I am sicke at heart\n",
      "\n",
      "   Barn. Haue you had quiet Guard?\n",
      "  Fran. Not\n"
     ]
    }
   ],
   "source": [
    "raw = nltk.corpus.gutenberg.raw(\"shakespeare-hamlet.txt\")\n",
    "print(raw[:500])"
   ]
  },
  {
   "cell_type": "markdown",
   "metadata": {},
   "source": [
    "## 19.2 Char to Dic"
   ]
  },
  {
   "cell_type": "code",
   "execution_count": 4,
   "metadata": {},
   "outputs": [],
   "source": [
    "char2index = {}\n",
    "index2char = []"
   ]
  },
  {
   "cell_type": "code",
   "execution_count": 5,
   "metadata": {},
   "outputs": [],
   "source": [
    "for char in raw :\n",
    "    if char not in char2index.keys() :\n",
    "        char2index[char] = len(char2index)\n",
    "        index2char.append(char)"
   ]
  },
  {
   "cell_type": "code",
   "execution_count": 6,
   "metadata": {},
   "outputs": [
    {
     "data": {
      "text/plain": [
       "{'\\n': 27,\n",
       " ' ': 4,\n",
       " '!': 64,\n",
       " '&': 43,\n",
       " \"'\": 39,\n",
       " '(': 61,\n",
       " ')': 62,\n",
       " ',': 48,\n",
       " '-': 54,\n",
       " '.': 32,\n",
       " '1': 23,\n",
       " '5': 24,\n",
       " '9': 25,\n",
       " ':': 42,\n",
       " ';': 58,\n",
       " '?': 40,\n",
       " 'A': 28,\n",
       " 'B': 35,\n",
       " 'C': 38,\n",
       " 'D': 55,\n",
       " 'E': 34,\n",
       " 'F': 36,\n",
       " 'G': 51,\n",
       " 'H': 12,\n",
       " 'I': 49,\n",
       " 'K': 46,\n",
       " 'L': 45,\n",
       " 'M': 52,\n",
       " 'N': 41,\n",
       " 'O': 56,\n",
       " 'P': 31,\n",
       " 'Q': 59,\n",
       " 'R': 53,\n",
       " 'S': 19,\n",
       " 'T': 1,\n",
       " 'V': 63,\n",
       " 'W': 18,\n",
       " 'Y': 47,\n",
       " 'Z': 66,\n",
       " '[': 0,\n",
       " ']': 26,\n",
       " 'a': 6,\n",
       " 'b': 16,\n",
       " 'c': 29,\n",
       " 'd': 8,\n",
       " 'e': 3,\n",
       " 'f': 11,\n",
       " 'g': 7,\n",
       " 'h': 2,\n",
       " 'i': 9,\n",
       " 'j': 65,\n",
       " 'k': 20,\n",
       " 'l': 14,\n",
       " 'm': 13,\n",
       " 'n': 33,\n",
       " 'o': 10,\n",
       " 'p': 22,\n",
       " 'q': 50,\n",
       " 'r': 5,\n",
       " 's': 21,\n",
       " 't': 15,\n",
       " 'u': 30,\n",
       " 'v': 44,\n",
       " 'w': 37,\n",
       " 'x': 57,\n",
       " 'y': 17,\n",
       " 'z': 60}"
      ]
     },
     "execution_count": 6,
     "metadata": {},
     "output_type": "execute_result"
    }
   ],
   "source": [
    "char2index"
   ]
  },
  {
   "cell_type": "code",
   "execution_count": 7,
   "metadata": {
    "scrolled": true
   },
   "outputs": [
    {
     "data": {
      "text/plain": [
       "67"
      ]
     },
     "execution_count": 7,
     "metadata": {},
     "output_type": "execute_result"
    }
   ],
   "source": [
    "len(char2index)"
   ]
  },
  {
   "cell_type": "code",
   "execution_count": 8,
   "metadata": {},
   "outputs": [],
   "source": [
    "char2vec = {}\n",
    "eye = np.eye(len(char2index))"
   ]
  },
  {
   "cell_type": "code",
   "execution_count": 9,
   "metadata": {},
   "outputs": [],
   "source": [
    "for item in char2index.keys() :\n",
    "    char2vec[item] = eye[char2index[item],:]"
   ]
  },
  {
   "cell_type": "code",
   "execution_count": 10,
   "metadata": {},
   "outputs": [
    {
     "data": {
      "text/plain": [
       "array([0., 0., 0., 0., 0., 0., 1., 0., 0., 0., 0., 0., 0., 0., 0., 0., 0.,\n",
       "       0., 0., 0., 0., 0., 0., 0., 0., 0., 0., 0., 0., 0., 0., 0., 0., 0.,\n",
       "       0., 0., 0., 0., 0., 0., 0., 0., 0., 0., 0., 0., 0., 0., 0., 0., 0.,\n",
       "       0., 0., 0., 0., 0., 0., 0., 0., 0., 0., 0., 0., 0., 0., 0., 0.])"
      ]
     },
     "execution_count": 10,
     "metadata": {},
     "output_type": "execute_result"
    }
   ],
   "source": [
    "char2vec['a']"
   ]
  },
  {
   "cell_type": "code",
   "execution_count": 11,
   "metadata": {},
   "outputs": [],
   "source": [
    "data = np.array([char2vec[char] for char in raw])"
   ]
  },
  {
   "cell_type": "markdown",
   "metadata": {},
   "source": [
    "## 19.3 Define Model"
   ]
  },
  {
   "cell_type": "code",
   "execution_count": 12,
   "metadata": {},
   "outputs": [],
   "source": [
    "# Parameters:\t\n",
    "# input_size – The number of expected features in the input x\n",
    "# hidden_size – The number of features in the hidden state h\n",
    "# num_layers – Number of recurrent layers. E.g., setting num_layers=2 would mean stacking two RNNs together to form a stacked RNN, with the second RNN taking in outputs of the first RNN and computing the final results. Default: 1\n",
    "# nonlinearity – The non-linearity to use. Can be either ‘tanh’ or ‘relu’. Default: ‘tanh’\n",
    "# bias – If False, then the layer does not use bias weights b_ih and b_hh. Default: True\n",
    "# batch_first – If True, then the input and output tensors are provided as (batch, seq, feature). Default: False\n",
    "# dropout – If non-zero, introduces a Dropout layer on the outputs of each RNN layer except the last layer, with dropout probability equal to dropout. Default: 0\n",
    "# bidirectional – If True, becomes a bidirectional RNN. Default: False"
   ]
  },
  {
   "cell_type": "code",
   "execution_count": 13,
   "metadata": {},
   "outputs": [],
   "source": [
    "class RNN(nn.Module):\n",
    "    def __init__(self, input_size, hidden_size, output_size, num_layers):\n",
    "        super(RNN, self).__init__()\n",
    "        self.input_size = input_size\n",
    "        self.hidden_size = hidden_size\n",
    "        self.output_size = output_size\n",
    "        self.num_layers = num_layers\n",
    "        \n",
    "#         self.rnn = nn.GRU(input_size,hidden_size,num_layers)\n",
    "        self.rnn = nn.RNN(input_size,hidden_size,num_layers, dropout=0.5)\n",
    "        self.fc = nn.Linear(hidden_size, output_size)\n",
    "        \n",
    "    def forward(self, input, hidden):\n",
    "        out,hidden = self.rnn(input.view(1,1,-1),hidden)\n",
    "        out = self.fc(out.view(1,-1))\n",
    "        return out,hidden\n",
    "\n",
    "    def init_hidden(self):\n",
    "        hidden = Variable(torch.zeros(self.num_layers, 1, self.hidden_size)).cuda()\n",
    "        return hidden"
   ]
  },
  {
   "cell_type": "code",
   "execution_count": 14,
   "metadata": {},
   "outputs": [],
   "source": [
    "model = RNN(len(data[0]), 500, len(data[0]), 1).cuda()"
   ]
  },
  {
   "cell_type": "markdown",
   "metadata": {},
   "source": [
    "## 19.4 Model Training"
   ]
  },
  {
   "cell_type": "code",
   "execution_count": 15,
   "metadata": {},
   "outputs": [],
   "source": [
    "optimizer = torch.optim.Adam(model.parameters(), lr=0.001)\n",
    "loss = nn.CrossEntropyLoss()"
   ]
  },
  {
   "cell_type": "code",
   "execution_count": 16,
   "metadata": {},
   "outputs": [],
   "source": [
    "step = 100\n",
    "num_epochs = 5"
   ]
  },
  {
   "cell_type": "code",
   "execution_count": 17,
   "metadata": {
    "scrolled": false
   },
   "outputs": [
    {
     "name": "stdout",
     "output_type": "stream",
     "text": [
      "Epoch [1/5], Iter [100/1627] Loss: 321.3247\n",
      "Epoch [1/5], Iter [200/1627] Loss: 289.4613\n",
      "Epoch [1/5], Iter [300/1627] Loss: 252.1387\n",
      "Epoch [1/5], Iter [400/1627] Loss: 227.3930\n",
      "Epoch [1/5], Iter [500/1627] Loss: 241.5024\n",
      "Epoch [1/5], Iter [600/1627] Loss: 226.0522\n",
      "Epoch [1/5], Iter [700/1627] Loss: 248.2022\n",
      "Epoch [1/5], Iter [800/1627] Loss: 245.2936\n",
      "Epoch [1/5], Iter [900/1627] Loss: 240.0690\n",
      "Epoch [1/5], Iter [1000/1627] Loss: 236.2115\n",
      "Epoch [1/5], Iter [1100/1627] Loss: 234.6044\n",
      "Epoch [1/5], Iter [1200/1627] Loss: 215.2743\n",
      "Epoch [1/5], Iter [1300/1627] Loss: 200.2270\n",
      "Epoch [1/5], Iter [1400/1627] Loss: 246.0686\n",
      "Epoch [1/5], Iter [1500/1627] Loss: 235.5276\n",
      "Epoch [1/5], Iter [1600/1627] Loss: 205.3211\n",
      "Epoch [2/5], Iter [100/1627] Loss: 216.8372\n",
      "Epoch [2/5], Iter [200/1627] Loss: 235.4823\n",
      "Epoch [2/5], Iter [300/1627] Loss: 223.6393\n",
      "Epoch [2/5], Iter [400/1627] Loss: 237.7616\n",
      "Epoch [2/5], Iter [500/1627] Loss: 207.4575\n",
      "Epoch [2/5], Iter [600/1627] Loss: 256.2497\n",
      "Epoch [2/5], Iter [700/1627] Loss: 184.5204\n",
      "Epoch [2/5], Iter [800/1627] Loss: 226.1223\n",
      "Epoch [2/5], Iter [900/1627] Loss: 211.3041\n",
      "Epoch [2/5], Iter [1000/1627] Loss: 199.6499\n",
      "Epoch [2/5], Iter [1100/1627] Loss: 220.5959\n",
      "Epoch [2/5], Iter [1200/1627] Loss: 158.3974\n",
      "Epoch [2/5], Iter [1300/1627] Loss: 239.9477\n",
      "Epoch [2/5], Iter [1400/1627] Loss: 188.5693\n",
      "Epoch [2/5], Iter [1500/1627] Loss: 212.0707\n",
      "Epoch [2/5], Iter [1600/1627] Loss: 171.7095\n",
      "Epoch [3/5], Iter [100/1627] Loss: 185.3937\n",
      "Epoch [3/5], Iter [200/1627] Loss: 144.3972\n",
      "Epoch [3/5], Iter [300/1627] Loss: 228.3085\n",
      "Epoch [3/5], Iter [400/1627] Loss: 200.9892\n",
      "Epoch [3/5], Iter [500/1627] Loss: 209.3942\n",
      "Epoch [3/5], Iter [600/1627] Loss: 186.9794\n",
      "Epoch [3/5], Iter [700/1627] Loss: 228.7651\n",
      "Epoch [3/5], Iter [800/1627] Loss: 204.2062\n",
      "Epoch [3/5], Iter [900/1627] Loss: 200.9838\n",
      "Epoch [3/5], Iter [1000/1627] Loss: 179.7674\n",
      "Epoch [3/5], Iter [1100/1627] Loss: 231.9984\n",
      "Epoch [3/5], Iter [1200/1627] Loss: 201.1453\n",
      "Epoch [3/5], Iter [1300/1627] Loss: 207.8996\n",
      "Epoch [3/5], Iter [1400/1627] Loss: 208.0370\n",
      "Epoch [3/5], Iter [1500/1627] Loss: 199.7069\n",
      "Epoch [3/5], Iter [1600/1627] Loss: 158.3465\n",
      "Epoch [4/5], Iter [100/1627] Loss: 232.5318\n",
      "Epoch [4/5], Iter [200/1627] Loss: 220.8341\n",
      "Epoch [4/5], Iter [300/1627] Loss: 197.7013\n",
      "Epoch [4/5], Iter [400/1627] Loss: 192.9031\n",
      "Epoch [4/5], Iter [500/1627] Loss: 192.0738\n",
      "Epoch [4/5], Iter [600/1627] Loss: 213.7600\n",
      "Epoch [4/5], Iter [700/1627] Loss: 300.3402\n",
      "Epoch [4/5], Iter [800/1627] Loss: 184.2849\n",
      "Epoch [4/5], Iter [900/1627] Loss: 191.9066\n",
      "Epoch [4/5], Iter [1000/1627] Loss: 198.5263\n",
      "Epoch [4/5], Iter [1100/1627] Loss: 208.2636\n",
      "Epoch [4/5], Iter [1200/1627] Loss: 160.4153\n",
      "Epoch [4/5], Iter [1300/1627] Loss: 219.9681\n",
      "Epoch [4/5], Iter [1400/1627] Loss: 179.3862\n",
      "Epoch [4/5], Iter [1500/1627] Loss: 205.0085\n",
      "Epoch [4/5], Iter [1600/1627] Loss: 194.6124\n",
      "Epoch [5/5], Iter [100/1627] Loss: 193.3179\n",
      "Epoch [5/5], Iter [200/1627] Loss: 182.2724\n",
      "Epoch [5/5], Iter [300/1627] Loss: 210.2790\n",
      "Epoch [5/5], Iter [400/1627] Loss: 164.5498\n",
      "Epoch [5/5], Iter [500/1627] Loss: 164.3709\n",
      "Epoch [5/5], Iter [600/1627] Loss: 237.1227\n",
      "Epoch [5/5], Iter [700/1627] Loss: 203.2795\n",
      "Epoch [5/5], Iter [800/1627] Loss: 222.9121\n",
      "Epoch [5/5], Iter [900/1627] Loss: 203.1563\n",
      "Epoch [5/5], Iter [1000/1627] Loss: 192.8382\n",
      "Epoch [5/5], Iter [1100/1627] Loss: 208.7198\n",
      "Epoch [5/5], Iter [1200/1627] Loss: 241.4060\n",
      "Epoch [5/5], Iter [1300/1627] Loss: 181.5430\n",
      "Epoch [5/5], Iter [1400/1627] Loss: 225.8067\n",
      "Epoch [5/5], Iter [1500/1627] Loss: 227.6850\n",
      "Epoch [5/5], Iter [1600/1627] Loss: 184.0406\n"
     ]
    }
   ],
   "source": [
    "for epoch in range(num_epochs):\n",
    "    \n",
    "    sp = list(range(0, len(data) - 2 * step, step))\n",
    "    sp = np.add(sp, random.randint(0, step))\n",
    "    random.shuffle(sp)\n",
    "    \n",
    "    for i in range(len(sp)) :\n",
    "    \n",
    "        hidden = model.init_hidden()\n",
    "\n",
    "        cost = 0\n",
    "\n",
    "        for pos in range(sp[i], sp[i] + step):\n",
    "            X = Variable(torch.from_numpy(data[pos]).type(torch.FloatTensor)).cuda()\n",
    "            y = torch.from_numpy(data[pos+1]).cuda()\n",
    "            _, y = y.max(dim=0)\n",
    "\n",
    "            pre, hidden = model(X,hidden)\n",
    "            cost += loss(pre,Variable(y).cuda())\n",
    "\n",
    "        cost.backward()\n",
    "        \n",
    "        nn.utils.clip_grad_norm(model.parameters(), 5)\n",
    "        \n",
    "        optimizer.step()\n",
    "\n",
    "        if (i + 1) % 100 == 0 :\n",
    "            print('Epoch [%d/%d], Iter [%d/%d] Loss: %.4f'\n",
    "                     %(epoch+1, num_epochs, i + 1, len(sp), cost.data[0]))"
   ]
  },
  {
   "cell_type": "code",
   "execution_count": 22,
   "metadata": {
    "scrolled": false
   },
   "outputs": [
    {
     "name": "stdout",
     "output_type": "stream",
     "text": [
      "* Generated Text : \n",
      " To se senessent an yeur Soust to saue to thit?\n",
      "Y that\n",
      "In his all and at iull in well as as a welf a kay\n",
      "    Ham. He laugh with or most as yeur or serus as you mase seet me wist as the Sould,\n",
      "and to and thee say tray if heat, and, are my Lord\n",
      "\n",
      "   Kin. Nit as a mailes of whit so me that a digg our ould tit wall time at in he gaue tham se for and as\n",
      "\n",
      "   Ham. The downe a day\n",
      "\n",
      "   Kin.\n",
      "Tre aids is a sighines and seaue me his a selfar a denter and seauen as the wherese of tine,\n",
      "Tis gron thes an was a mu\n"
     ]
    }
   ],
   "source": [
    "start_num = 1\n",
    "text = index2char[start_num]\n",
    "\n",
    "model.eval()\n",
    "hidden = model.init_hidden()\n",
    "\n",
    "X_test = Variable(torch.from_numpy(data[start_num]).type(torch.FloatTensor)).cuda()\n",
    "    \n",
    "for i in range(500) :\n",
    "\n",
    "    pre, hidden = model(X_test, hidden)\n",
    "\n",
    "    temp = pre.cpu().data.numpy()[0]\n",
    "\n",
    "    best_5 = np.argsort(temp)[::-1][:5]\n",
    "    \n",
    "    temp = np.exp(temp[best_5])\n",
    "    \n",
    "    temp = temp / temp.sum()\n",
    "    \n",
    "    pre = np.random.choice(best_5, 1, p = temp)[0]\n",
    "    \n",
    "    curr_char = index2char[pre]\n",
    "    \n",
    "    text += curr_char\n",
    "    \n",
    "    X_test = Variable(torch.from_numpy(char2vec[curr_char]).type(torch.FloatTensor)).cuda()\n",
    "    \n",
    "print(\"* Generated Text : \\n\", text)"
   ]
  }
 ],
 "metadata": {
  "kernelspec": {
   "display_name": "Python 3",
   "language": "python",
   "name": "python3"
  },
  "language_info": {
   "codemirror_mode": {
    "name": "ipython",
    "version": 3
   },
   "file_extension": ".py",
   "mimetype": "text/x-python",
   "name": "python",
   "nbconvert_exporter": "python",
   "pygments_lexer": "ipython3",
   "version": "3.6.4"
  }
 },
 "nbformat": 4,
 "nbformat_minor": 2
}
